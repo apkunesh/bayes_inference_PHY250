{
 "cells": [
  {
   "cell_type": "code",
   "execution_count": 5,
   "metadata": {},
   "outputs": [],
   "source": [
    "import numpy as np"
   ]
  },
  {
   "cell_type": "markdown",
   "metadata": {},
   "source": [
    "1) Find $N(a)$ s.t. \n",
    "\n",
    "$P(x|a) = N(a) a^{(-x^2/2)}$\n",
    "\n",
    "is appropriately normalized."
   ]
  },
  {
   "cell_type": "markdown",
   "metadata": {},
   "source": [
    "$\\int_{-\\infty}^{\\infty} N(a)a^{(-x^2/2)} dx = 1$\n",
    "\n",
    "$\\rightarrow N(a) \\int_{-\\infty}^{\\infty} a^{-x^2/2}dx = 1$\n",
    "\n",
    "$\\rightarrow N(a) = [\\int_{-\\infty}^{\\infty} a^{-x^2/2}dx]^{-1}$\n",
    "\n",
    "$\\boxed{\\rightarrow N(a) = \\sqrt{\\frac{\\ln(a)}{2\\pi}}}$"
   ]
  },
  {
   "cell_type": "markdown",
   "metadata": {},
   "source": [
    "3) Use Bayes's Thm. to calculate $P(a|{x})$ when one has multiple samples drawn, ie ${x} = (x_1,x_2,x_3,...,x_n)$.\n",
    "\n",
    "Bayes's Thm:\n",
    "\n",
    "\\begin{equation}\n",
    "P(A|B) = \\frac{P(B|A)P(A)}{P(B)}\n",
    "\\end{equation}\n",
    "\n",
    "$x$ is a Gaussian variable with unit variance and mean zero, so\n",
    "\n",
    "$P(x) = \\frac{1}{\\sqrt{2\\pi}}e^{-\\frac{1}{2}x^2}$\n",
    "\n",
    "while\n",
    "\n",
    "$P(x|a) = \\sqrt{\\frac{\\ln(a)}{2\\pi}} a^{(-x^2/2)}$\n",
    "\n",
    "\n",
    "Then $P(a|x) = \\frac{\\frac{\\sqrt{\\ln(a)}}{\\sqrt{(2\\pi)}} a^{(-x^2/2)}P(a)}{\\frac{1}{\\sqrt{2\\pi}}e^{-\\frac{1}{2}x^2}}$\n"
   ]
  },
  {
   "cell_type": "markdown",
   "metadata": {},
   "source": [
    "$\\rightarrow P(a|x) = \\sqrt{ln{(a)}}e^{\\frac{1}{2}x^2}a^{\\frac{-x^2}{2}}P(a)$\n",
    "\n",
    "We take $P(a)$ to be independent of $a$ (uniform prior), so simply dropping this term yields an unnormalized version of $P(a|x)$:\n",
    "\n",
    "$\\boxed{P(a|x) = B\\sqrt{ln{(a)}}e^{\\frac{1}{2}x^2}a^{\\frac{-x^2}{2}}}$  where $B$ is a normalizing constant."
   ]
  },
  {
   "cell_type": "markdown",
   "metadata": {},
   "source": [
    "4) Draw 100 samples and plot the resulting P(a|x)."
   ]
  },
  {
   "cell_type": "code",
   "execution_count": 7,
   "metadata": {},
   "outputs": [],
   "source": [
    "from numpy.random import normal \n",
    "\n",
    "samples = [normal() for i in range(100)]\n"
   ]
  },
  {
   "cell_type": "code",
   "execution_count": null,
   "metadata": {},
   "outputs": [],
   "source": []
  },
  {
   "cell_type": "code",
   "execution_count": null,
   "metadata": {},
   "outputs": [],
   "source": []
  }
 ],
 "metadata": {
  "kernelspec": {
   "display_name": "Python 3.7.6 32-bit",
   "language": "python",
   "name": "python37632bit032396d3e6944736a901283b932ec393"
  },
  "language_info": {
   "codemirror_mode": {
    "name": "ipython",
    "version": 3
   },
   "file_extension": ".py",
   "mimetype": "text/x-python",
   "name": "python",
   "nbconvert_exporter": "python",
   "pygments_lexer": "ipython3",
   "version": "3.7.6"
  }
 },
 "nbformat": 4,
 "nbformat_minor": 4
}
